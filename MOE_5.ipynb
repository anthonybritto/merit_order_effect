{
 "cells": [
  {
   "cell_type": "markdown",
   "metadata": {},
   "source": [
    "# The Merit Order Effect in Germany"
   ]
  },
  {
   "cell_type": "code",
   "execution_count": 15,
   "metadata": {},
   "outputs": [
    {
     "data": {
      "text/html": [
       "<script>\n",
       "code_show=true; \n",
       "function code_toggle() {\n",
       " if (code_show){\n",
       " $('div.input').hide();\n",
       " } else {\n",
       " $('div.input').show();\n",
       " }\n",
       " code_show = !code_show\n",
       "} \n",
       "$( document ).ready(code_toggle);\n",
       "</script>\n",
       "<form action=\"javascript:code_toggle()\"><input type=\"submit\" value=\"Toggle Code On/Off\"></form>"
      ],
      "text/plain": [
       "<IPython.core.display.HTML object>"
      ]
     },
     "execution_count": 15,
     "metadata": {},
     "output_type": "execute_result"
    }
   ],
   "source": [
    "from IPython.display import HTML\n",
    "\n",
    "HTML('''<script>\n",
    "code_show=true; \n",
    "function code_toggle() {\n",
    " if (code_show){\n",
    " $('div.input').hide();\n",
    " } else {\n",
    " $('div.input').show();\n",
    " }\n",
    " code_show = !code_show\n",
    "} \n",
    "$( document ).ready(code_toggle);\n",
    "</script>\n",
    "<form action=\"javascript:code_toggle()\"><input type=\"submit\" value=\"Toggle Code On/Off\"></form>''')"
   ]
  },
  {
   "cell_type": "code",
   "execution_count": 1,
   "metadata": {
    "scrolled": true
   },
   "outputs": [],
   "source": [
    "# import packages\n",
    "\n",
    "import numpy as np\n",
    "import pandas as pd\n",
    "import json\n",
    "import os\n",
    "import matplotlib.pyplot as plt\n",
    "\n",
    "from datetime import datetime\n",
    "from sklearn.linear_model import LinearRegression\n",
    "from tabulate import tabulate\n",
    "from IPython.display import display\n",
    "\n",
    "np.set_printoptions(precision=3)\n",
    "np.set_printoptions(suppress=True)\n",
    "\n",
    "plt.style.use('Solarize_Light2')\n",
    "%matplotlib inline"
   ]
  },
  {
   "cell_type": "code",
   "execution_count": 148,
   "metadata": {
    "scrolled": true
   },
   "outputs": [],
   "source": [
    "# set plot preferences\n",
    "\n",
    "# plt.rcParams['figure.figsize'] = (18, 12)\n",
    "# plt.rcParams['figure.dpi'] = 300"
   ]
  },
  {
   "cell_type": "code",
   "execution_count": 111,
   "metadata": {},
   "outputs": [],
   "source": [
    "# import wind data\n",
    "\n",
    "folder_path_w = r'C:\\Users\\dt0955\\OneDrive\\Jupyter\\Merit Order Effect\\data\\fraunhofer\\scatter\\wind'\n",
    "os.chdir(folder_path_w)\n",
    "\n",
    "wind = pd.DataFrame(columns=['date', 'wind', 'price'])\n",
    "\n",
    "for data_file in sorted(os.listdir(folder_path_w)):\n",
    "    with open(data_file) as f:\n",
    "        wind_temp = pd.DataFrame(json.load(f), columns=['date', 'wind', 'price'])\n",
    "        wind = wind.append(wind_temp, ignore_index=True)\n",
    "        \n",
    "wind['date'] = pd.to_datetime(wind['date'], unit='ms')\n",
    "wind = wind.set_index('date')\n",
    "\n",
    "# import solar data\n",
    "\n",
    "folder_path_s = r'C:\\Users\\dt0955\\OneDrive\\Jupyter\\Merit Order Effect\\data\\fraunhofer\\scatter\\solar'\n",
    "os.chdir(folder_path_s)\n",
    "\n",
    "solar = pd.DataFrame(columns=['date', 'solar', 'price'])\n",
    "\n",
    "for data_file in sorted(os.listdir(folder_path_s)):\n",
    "    with open(data_file) as f:\n",
    "        solar_temp = pd.DataFrame(json.load(f), columns=['date', 'solar', 'price'])\n",
    "        solar = solar.append(solar_temp, ignore_index=True)\n",
    "        \n",
    "solar['date'] = pd.to_datetime(solar['date'], unit='ms')\n",
    "solar = solar.set_index('date')\n",
    "\n",
    "# import load data\n",
    "\n",
    "folder_path_l = r'C:\\Users\\dt0955\\OneDrive\\Jupyter\\Merit Order Effect\\data\\fraunhofer\\scatter\\load'\n",
    "os.chdir(folder_path_l)\n",
    "\n",
    "load = pd.DataFrame(columns=['date', 'load', 'price'])\n",
    "\n",
    "for data_file in sorted(os.listdir(folder_path_l)):\n",
    "    with open(data_file) as f:\n",
    "        load_temp = pd.DataFrame(json.load(f), columns=['date', 'load', 'price'])\n",
    "        load = load.append(load_temp, ignore_index=True)\n",
    "        \n",
    "load['date'] = pd.to_datetime(load['date'], unit='ms')\n",
    "load = load.set_index('date')\n",
    "\n",
    "# gather all dat into single array\n",
    "\n",
    "data_all = wind.assign(solar=solar['solar'].values, load=load['load'].values)\n",
    "data_all = data_all[['wind', 'solar', 'load', 'price']]\n",
    "data_all = data_all.dropna() # drop missing values\n",
    "data_all = data_all[data_all.load!=0] # drop missing load values"
   ]
  },
  {
   "cell_type": "markdown",
   "metadata": {},
   "source": [
    "Data was download from Fraunhofer's [Energy Charts](https://energy-charts.de/) website. A sample of the data is shown below: our focus is naturally on wind and solar; the total load is a good proxy for demand. The units for electricity are MWh and the price is in EUR/MWh"
   ]
  },
  {
   "cell_type": "code",
   "execution_count": 9,
   "metadata": {},
   "outputs": [
    {
     "data": {
      "text/html": [
       "<div>\n",
       "<style scoped>\n",
       "    .dataframe tbody tr th:only-of-type {\n",
       "        vertical-align: middle;\n",
       "    }\n",
       "\n",
       "    .dataframe tbody tr th {\n",
       "        vertical-align: top;\n",
       "    }\n",
       "\n",
       "    .dataframe thead th {\n",
       "        text-align: right;\n",
       "    }\n",
       "</style>\n",
       "<table border=\"1\" class=\"dataframe\">\n",
       "  <thead>\n",
       "    <tr style=\"text-align: right;\">\n",
       "      <th></th>\n",
       "      <th>wind</th>\n",
       "      <th>solar</th>\n",
       "      <th>load</th>\n",
       "      <th>price</th>\n",
       "    </tr>\n",
       "    <tr>\n",
       "      <th>date</th>\n",
       "      <th></th>\n",
       "      <th></th>\n",
       "      <th></th>\n",
       "      <th></th>\n",
       "    </tr>\n",
       "  </thead>\n",
       "  <tbody>\n",
       "    <tr>\n",
       "      <th>2009-12-31 23:00:00</th>\n",
       "      <td>3.665</td>\n",
       "      <td>0.0</td>\n",
       "      <td>45.423</td>\n",
       "      <td>26.25</td>\n",
       "    </tr>\n",
       "    <tr>\n",
       "      <th>2010-01-01 00:00:00</th>\n",
       "      <td>3.630</td>\n",
       "      <td>0.0</td>\n",
       "      <td>44.958</td>\n",
       "      <td>18.46</td>\n",
       "    </tr>\n",
       "    <tr>\n",
       "      <th>2010-01-01 01:00:00</th>\n",
       "      <td>3.570</td>\n",
       "      <td>0.0</td>\n",
       "      <td>43.357</td>\n",
       "      <td>20.08</td>\n",
       "    </tr>\n",
       "    <tr>\n",
       "      <th>2010-01-01 02:00:00</th>\n",
       "      <td>3.473</td>\n",
       "      <td>0.0</td>\n",
       "      <td>41.577</td>\n",
       "      <td>16.99</td>\n",
       "    </tr>\n",
       "    <tr>\n",
       "      <th>2010-01-01 03:00:00</th>\n",
       "      <td>3.201</td>\n",
       "      <td>0.0</td>\n",
       "      <td>40.239</td>\n",
       "      <td>15.92</td>\n",
       "    </tr>\n",
       "  </tbody>\n",
       "</table>\n",
       "</div>"
      ],
      "text/plain": [
       "                      wind  solar    load  price\n",
       "date                                            \n",
       "2009-12-31 23:00:00  3.665    0.0  45.423  26.25\n",
       "2010-01-01 00:00:00  3.630    0.0  44.958  18.46\n",
       "2010-01-01 01:00:00  3.570    0.0  43.357  20.08\n",
       "2010-01-01 02:00:00  3.473    0.0  41.577  16.99\n",
       "2010-01-01 03:00:00  3.201    0.0  40.239  15.92"
      ]
     },
     "execution_count": 9,
     "metadata": {},
     "output_type": "execute_result"
    }
   ],
   "source": [
    "data_all.head()"
   ]
  },
  {
   "cell_type": "markdown",
   "metadata": {},
   "source": [
    "***\n",
    "## Total Average Merit Order Effect\n",
    "\n",
    "As a first attempt, we follow [Cludius et. al](https://doi.org/10.1016/j.eneco.2014.04.020), and model the spot price as dependent on the feed-in of _wind_ and _solar_, with _load_ as an indicator for total demand. We also introduce hourly, daily, monthly and yearly dummies to control for systematic changes in demand. Seven dummies for the days of the week are also introduced.\n",
    "$$\n",
    "    \\mathrm{Spot}_t = \\beta_1 \\mathrm{wind}_t + \\beta_2 \\mathrm{solar}_t + \\beta_3 \\mathrm{load}_t + \\mathrm{dummies}\\ .\n",
    "$$\n",
    "\n",
    "We obtain the following coeffecients."
   ]
  },
  {
   "cell_type": "code",
   "execution_count": 135,
   "metadata": {},
   "outputs": [],
   "source": [
    "years = np.arange(2010, 2019, 1)\n",
    "\n",
    "coeff_table = []\n",
    "\n",
    "for year in years:\n",
    "    \n",
    "    x_data = data_all[['wind', 'solar', 'load']].loc[data_all.index.year==year].values\n",
    "    \n",
    "    dummy_number = 24 + 7 + 12 + 4 # hours + days + months + months + seasons\n",
    "    reg_x = np.ones((x_data.shape[0], x_data.shape[1] + dummy_number))\n",
    "\n",
    "    reg_x[:, :-dummy_number] = x_data # x-data for regression\n",
    "    \n",
    "    reg_y = data_all[['price']].loc[data_all.index.year==year].values.transpose() # y-data for regession\n",
    "    reg_y = reg_y.flatten()\n",
    "    \n",
    "    model = LinearRegression().fit(reg_x, reg_y)\n",
    "    \n",
    "    coeff_table.append([np.int(year), *model.coef_[0:3], model.score(reg_x, reg_y)])\n",
    "    \n",
    "coeff_table = np.array(coeff_table)"
   ]
  },
  {
   "cell_type": "code",
   "execution_count": 137,
   "metadata": {},
   "outputs": [
    {
     "data": {
      "text/html": [
       "<table>\n",
       "<thead>\n",
       "<tr><th style=\"text-align: right;\">  Year</th><th style=\"text-align: right;\">  Wind Coef. (EUR/MWh^2)</th><th style=\"text-align: right;\">  Solar Coef. (EUR/MWh^2)</th><th style=\"text-align: right;\">  Load Coef. (EUR/MWh^2)</th><th style=\"text-align: right;\">  R^2</th></tr>\n",
       "</thead>\n",
       "<tbody>\n",
       "<tr><td style=\"text-align: right;\">  2010</td><td style=\"text-align: right;\">                  -1.135</td><td style=\"text-align: right;\">                    0.298</td><td style=\"text-align: right;\">                   1.207</td><td style=\"text-align: right;\">0.684</td></tr>\n",
       "<tr><td style=\"text-align: right;\">  2011</td><td style=\"text-align: right;\">                  -1.201</td><td style=\"text-align: right;\">                   -0.305</td><td style=\"text-align: right;\">                   1.068</td><td style=\"text-align: right;\">0.691</td></tr>\n",
       "<tr><td style=\"text-align: right;\">  2012</td><td style=\"text-align: right;\">                  -1.255</td><td style=\"text-align: right;\">                   -1.030</td><td style=\"text-align: right;\">                   1.388</td><td style=\"text-align: right;\">0.632</td></tr>\n",
       "<tr><td style=\"text-align: right;\">  2013</td><td style=\"text-align: right;\">                  -1.309</td><td style=\"text-align: right;\">                   -1.072</td><td style=\"text-align: right;\">                   1.441</td><td style=\"text-align: right;\">0.777</td></tr>\n",
       "<tr><td style=\"text-align: right;\">  2014</td><td style=\"text-align: right;\">                  -1.027</td><td style=\"text-align: right;\">                   -0.949</td><td style=\"text-align: right;\">                   1.129</td><td style=\"text-align: right;\">0.817</td></tr>\n",
       "<tr><td style=\"text-align: right;\">  2015</td><td style=\"text-align: right;\">                  -0.999</td><td style=\"text-align: right;\">                   -0.737</td><td style=\"text-align: right;\">                   0.972</td><td style=\"text-align: right;\">0.788</td></tr>\n",
       "<tr><td style=\"text-align: right;\">  2016</td><td style=\"text-align: right;\">                  -0.934</td><td style=\"text-align: right;\">                   -0.832</td><td style=\"text-align: right;\">                   0.932</td><td style=\"text-align: right;\">0.664</td></tr>\n",
       "<tr><td style=\"text-align: right;\">  2017</td><td style=\"text-align: right;\">                  -1.286</td><td style=\"text-align: right;\">                   -1.152</td><td style=\"text-align: right;\">                   1.286</td><td style=\"text-align: right;\">0.735</td></tr>\n",
       "<tr><td style=\"text-align: right;\">  2018</td><td style=\"text-align: right;\">                  -1.295</td><td style=\"text-align: right;\">                   -0.930</td><td style=\"text-align: right;\">                   1.130</td><td style=\"text-align: right;\">0.584</td></tr>\n",
       "</tbody>\n",
       "</table>"
      ],
      "text/plain": [
       "<IPython.core.display.HTML object>"
      ]
     },
     "metadata": {},
     "output_type": "display_data"
    }
   ],
   "source": [
    "display(HTML(tabulate(coeff_table, headers=[\"Year\", \"Wind Coef. (EUR/MWh^2)\", \"Solar Coef. (EUR/MWh^2)\", \"Load Coef. (EUR/MWh^2)\", \"R^2\"],\n",
    "               floatfmt=(\".0f\", \".3f\", \".3f\", \".3f\", \".3f\"), tablefmt='html')))"
   ]
  },
  {
   "cell_type": "markdown",
   "metadata": {},
   "source": [
    "To compute the total average MO effect, we need to multiply these specific effects with the load-weighted everage wind or PV feed-in per hour in the respective year:"
   ]
  },
  {
   "cell_type": "code",
   "execution_count": 19,
   "metadata": {},
   "outputs": [
    {
     "data": {
      "text/html": [
       "<table>\n",
       "<thead>\n",
       "<tr><th style=\"text-align: right;\">  Year</th><th style=\"text-align: right;\">  MOE Wind (EUR/MWh)</th><th style=\"text-align: right;\">  MOE Solar (EUR/MWh)</th><th style=\"text-align: right;\">  MOE Total (EUR/MWh)</th></tr>\n",
       "</thead>\n",
       "<tbody>\n",
       "<tr><td style=\"text-align: right;\">  2010</td><td style=\"text-align: right;\">               -5.01</td><td style=\"text-align: right;\">                 0.42</td><td style=\"text-align: right;\">                -4.59</td></tr>\n",
       "<tr><td style=\"text-align: right;\">  2011</td><td style=\"text-align: right;\">               -6.81</td><td style=\"text-align: right;\">                -0.74</td><td style=\"text-align: right;\">                -7.55</td></tr>\n",
       "<tr><td style=\"text-align: right;\">  2012</td><td style=\"text-align: right;\">               -7.19</td><td style=\"text-align: right;\">                -3.41</td><td style=\"text-align: right;\">               -10.61</td></tr>\n",
       "<tr><td style=\"text-align: right;\">  2013</td><td style=\"text-align: right;\">               -7.74</td><td style=\"text-align: right;\">                -4.16</td><td style=\"text-align: right;\">               -11.89</td></tr>\n",
       "<tr><td style=\"text-align: right;\">  2014</td><td style=\"text-align: right;\">               -6.75</td><td style=\"text-align: right;\">                -4.31</td><td style=\"text-align: right;\">               -11.06</td></tr>\n",
       "<tr><td style=\"text-align: right;\">  2015</td><td style=\"text-align: right;\">               -9.08</td><td style=\"text-align: right;\">                -3.54</td><td style=\"text-align: right;\">               -12.62</td></tr>\n",
       "<tr><td style=\"text-align: right;\">  2016</td><td style=\"text-align: right;\">               -8.31</td><td style=\"text-align: right;\">                -3.94</td><td style=\"text-align: right;\">               -12.25</td></tr>\n",
       "<tr><td style=\"text-align: right;\">  2017</td><td style=\"text-align: right;\">              -15.48</td><td style=\"text-align: right;\">                -5.50</td><td style=\"text-align: right;\">               -20.98</td></tr>\n",
       "<tr><td style=\"text-align: right;\">  2018</td><td style=\"text-align: right;\">              -16.55</td><td style=\"text-align: right;\">                -4.99</td><td style=\"text-align: right;\">               -21.54</td></tr>\n",
       "</tbody>\n",
       "</table>"
      ],
      "text/plain": [
       "<IPython.core.display.HTML object>"
      ]
     },
     "metadata": {},
     "output_type": "display_data"
    }
   ],
   "source": [
    "mo_table = []\n",
    "\n",
    "for year in years:\n",
    "    \n",
    "    data_year = data_all.loc[data_all.index.year==year]\n",
    "    \n",
    "    wind_weigh = np.sum(data_year['load'].values * data_year['wind'].values) / np.sum(data_year['load'].values)\n",
    "    solar_weigh = np.sum(data_year['load'].values * data_year['solar'].values) / np.sum(data_year['load'].values)\n",
    "    \n",
    "    # convert coeff. table to pandas Dataframe\n",
    "    coeff_pd = pd.DataFrame(coeff_table).set_index([0])\n",
    "    coeffs = coeff_pd.loc[coeff_pd.index==year]\n",
    "    \n",
    "    wind_coeff = coeffs[1].values[0]\n",
    "    solar_coeff = coeffs[2].values[0]\n",
    "    \n",
    "    mo_wind = wind_coeff*wind_weigh\n",
    "    mo_solar = solar_coeff*solar_weigh\n",
    "    mo = mo_wind + mo_solar\n",
    "    \n",
    "    mo_table.append([np.int(year), mo_wind, mo_solar, mo])\n",
    "    \n",
    "mo_table = np.array(mo_table)\n",
    "display(HTML(tabulate(mo_table, headers=[\"Year\", \"MOE Wind (EUR/MWh)\", \"MOE Solar (EUR/MWh)\", \"MOE Total (EUR/MWh)\"], floatfmt=(\".0f\", \".2f\", \".2f\", \".2f\"), tablefmt='html')))"
   ]
  },
  {
   "cell_type": "markdown",
   "metadata": {},
   "source": [
    "Apart from a slight abberration in 2010 with the solar MOE, the results are as expected: the MOE increases with each passing year.\n",
    "***\n",
    "## The MOE as a function of Demand\n",
    "\n",
    "We begin by examining a historgram of the load (demand), lumped into 5 MWh bins."
   ]
  },
  {
   "cell_type": "code",
   "execution_count": 150,
   "metadata": {},
   "outputs": [
    {
     "data": {
      "image/png": "[encoded data removed]",
      "text/plain": [
       "<Figure size 1296x864 with 1 Axes>"
      ]
     },
     "metadata": {
      "needs_background": "light"
     },
     "output_type": "display_data"
    }
   ],
   "source": [
    "bin_array = [25, 35, 40, 45, 50, 55, 60, 65, 70, 75, 80]\n",
    "\n",
    "ax = data_all[data_all.load!=0].load.hist(bins=bin_array)\n",
    "ax.set_xlabel('Load (MWh)');"
   ]
  },
  {
   "cell_type": "markdown",
   "metadata": {},
   "source": [
    "The demand clumps strongly around the average.\n",
    "\n",
    "As above, we perform a linear regression, obtaining the following coefficients and the total average MOE."
   ]
  },
  {
   "cell_type": "code",
   "execution_count": 151,
   "metadata": {},
   "outputs": [],
   "source": [
    "data_all['binned'] = pd.cut(data_all[data_all.load!=0].load, bin_array)\n",
    "bins = pd.IntervalIndex.from_breaks(bin_array)\n",
    "\n",
    "coeff_table_2 = []\n",
    "\n",
    "for bin in bins:\n",
    "    \n",
    "    x_data = data_all[['wind', 'solar', 'load']].loc[data_all.binned==bin].values\n",
    "    \n",
    "    dummy_number = 24 + 7 + 12 + 4 # hours + days + months + months + seasons\n",
    "    reg_x = np.ones((x_data.shape[0], x_data.shape[1] + dummy_number))\n",
    "\n",
    "    reg_x[:, :-dummy_number] = x_data # x-data for regression\n",
    "    \n",
    "    reg_y = data_all[data_all.binned==bin].price.values.transpose() # y-data for regession\n",
    "    reg_y = reg_y.flatten()\n",
    "    \n",
    "    model = LinearRegression().fit(reg_x, reg_y)\n",
    "    \n",
    "    coeff_table_2.append([bin, *model.coef_[0:3], model.score(reg_x, reg_y)])\n",
    "    \n",
    "coeff_table_2 = np.array(coeff_table_2)"
   ]
  },
  {
   "cell_type": "code",
   "execution_count": 153,
   "metadata": {},
   "outputs": [
    {
     "data": {
      "text/html": [
       "<table>\n",
       "<thead>\n",
       "<tr><th>Bin (MWh)  </th><th style=\"text-align: right;\">  Wind Coef. (EUR/MWh^2)</th><th style=\"text-align: right;\">  Solar Coef. (EUR/MWh^2)</th><th style=\"text-align: right;\">  Load Coef. (EUR/MWh^2)</th><th style=\"text-align: right;\">  R^2</th></tr>\n",
       "</thead>\n",
       "<tbody>\n",
       "<tr><td>(25, 35]   </td><td style=\"text-align: right;\">                  -2.463</td><td style=\"text-align: right;\">                    0.787</td><td style=\"text-align: right;\">                  11.409</td><td style=\"text-align: right;\">0.359</td></tr>\n",
       "<tr><td>(35, 40]   </td><td style=\"text-align: right;\">                  -1.392</td><td style=\"text-align: right;\">                   -1.077</td><td style=\"text-align: right;\">                   1.562</td><td style=\"text-align: right;\">0.395</td></tr>\n",
       "<tr><td>(40, 45]   </td><td style=\"text-align: right;\">                  -1.353</td><td style=\"text-align: right;\">                   -1.004</td><td style=\"text-align: right;\">                   1.260</td><td style=\"text-align: right;\">0.442</td></tr>\n",
       "<tr><td>(45, 50]   </td><td style=\"text-align: right;\">                  -1.176</td><td style=\"text-align: right;\">                   -0.903</td><td style=\"text-align: right;\">                   1.069</td><td style=\"text-align: right;\">0.424</td></tr>\n",
       "<tr><td>(50, 55]   </td><td style=\"text-align: right;\">                  -1.075</td><td style=\"text-align: right;\">                   -0.801</td><td style=\"text-align: right;\">                   1.141</td><td style=\"text-align: right;\">0.435</td></tr>\n",
       "<tr><td>(55, 60]   </td><td style=\"text-align: right;\">                  -1.007</td><td style=\"text-align: right;\">                   -0.727</td><td style=\"text-align: right;\">                   1.080</td><td style=\"text-align: right;\">0.416</td></tr>\n",
       "<tr><td>(60, 65]   </td><td style=\"text-align: right;\">                  -1.094</td><td style=\"text-align: right;\">                   -0.961</td><td style=\"text-align: right;\">                   1.344</td><td style=\"text-align: right;\">0.418</td></tr>\n",
       "<tr><td>(65, 70]   </td><td style=\"text-align: right;\">                  -1.096</td><td style=\"text-align: right;\">                   -0.984</td><td style=\"text-align: right;\">                   1.096</td><td style=\"text-align: right;\">0.441</td></tr>\n",
       "<tr><td>(70, 75]   </td><td style=\"text-align: right;\">                  -1.157</td><td style=\"text-align: right;\">                   -1.324</td><td style=\"text-align: right;\">                   0.882</td><td style=\"text-align: right;\">0.476</td></tr>\n",
       "<tr><td>(75, 80]   </td><td style=\"text-align: right;\">                  -0.820</td><td style=\"text-align: right;\">                   -1.441</td><td style=\"text-align: right;\">                   1.378</td><td style=\"text-align: right;\">0.534</td></tr>\n",
       "</tbody>\n",
       "</table>"
      ],
      "text/plain": [
       "<IPython.core.display.HTML object>"
      ]
     },
     "metadata": {},
     "output_type": "display_data"
    }
   ],
   "source": [
    "display(HTML(tabulate(coeff_table_2, headers=[\"Bin (MWh)\", \"Wind Coef. (EUR/MWh^2)\", \"Solar Coef. (EUR/MWh^2)\", \"Load Coef. (EUR/MWh^2)\", \"R^2\"],\n",
    "               floatfmt=(\".0f\", \".3f\", \".3f\", \".3f\", \".3f\"), tablefmt='html')))"
   ]
  },
  {
   "cell_type": "markdown",
   "metadata": {},
   "source": [
    "__N.B.__ The $R^2$ values here are not the best. Further fit analysis is required."
   ]
  },
  {
   "cell_type": "code",
   "execution_count": 154,
   "metadata": {},
   "outputs": [],
   "source": [
    "mo_table_2 = []\n",
    "\n",
    "for bin in bins:\n",
    "    \n",
    "    data_bin = data_all.loc[data_all.binned==bin]\n",
    "    \n",
    "    wind_weigh = np.sum(data_bin['load'].values * data_bin['wind'].values) / np.sum(data_bin['load'].values)\n",
    "    solar_weigh = np.sum(data_bin['load'].values * data_bin['solar'].values) / np.sum(data_bin['load'].values)\n",
    "    \n",
    "    # convert coeff. table to pandas Dataframe\n",
    "    coeff_pd = pd.DataFrame(coeff_table_2).set_index([0])\n",
    "    coeffs = coeff_pd.loc[coeff_pd.index==bin]\n",
    "    \n",
    "    wind_coeff = coeffs[1].values[0]\n",
    "    solar_coeff = coeffs[2].values[0]\n",
    "    \n",
    "    mo_wind = wind_coeff*wind_weigh\n",
    "    mo_solar = solar_coeff*solar_weigh\n",
    "    mo = mo_wind + mo_solar\n",
    "    \n",
    "    mo_table_2.append([bin, mo_wind, mo_solar, mo])\n",
    "    \n",
    "mo_table_2 = np.array(mo_table_2)"
   ]
  },
  {
   "cell_type": "code",
   "execution_count": 155,
   "metadata": {},
   "outputs": [
    {
     "data": {
      "text/html": [
       "<table>\n",
       "<thead>\n",
       "<tr><th>Bins [MWh]  </th><th style=\"text-align: right;\">  MOE Wind (EUR/MWh)</th><th style=\"text-align: right;\">  MOE Solar (EUR/MWh)</th><th style=\"text-align: right;\">  MOE Total (EUR/MWh)</th></tr>\n",
       "</thead>\n",
       "<tbody>\n",
       "<tr><td>(25, 35]    </td><td style=\"text-align: right;\">              -17.52</td><td style=\"text-align: right;\">                 0.14</td><td style=\"text-align: right;\">               -17.38</td></tr>\n",
       "<tr><td>(35, 40]    </td><td style=\"text-align: right;\">               -8.96</td><td style=\"text-align: right;\">                -0.33</td><td style=\"text-align: right;\">                -9.29</td></tr>\n",
       "<tr><td>(40, 45]    </td><td style=\"text-align: right;\">               -9.28</td><td style=\"text-align: right;\">                -0.98</td><td style=\"text-align: right;\">               -10.27</td></tr>\n",
       "<tr><td>(45, 50]    </td><td style=\"text-align: right;\">               -8.74</td><td style=\"text-align: right;\">                -2.03</td><td style=\"text-align: right;\">               -10.77</td></tr>\n",
       "<tr><td>(50, 55]    </td><td style=\"text-align: right;\">               -9.08</td><td style=\"text-align: right;\">                -2.26</td><td style=\"text-align: right;\">               -11.34</td></tr>\n",
       "<tr><td>(55, 60]    </td><td style=\"text-align: right;\">               -7.96</td><td style=\"text-align: right;\">                -2.02</td><td style=\"text-align: right;\">                -9.97</td></tr>\n",
       "<tr><td>(60, 65]    </td><td style=\"text-align: right;\">               -7.69</td><td style=\"text-align: right;\">                -5.02</td><td style=\"text-align: right;\">               -12.71</td></tr>\n",
       "<tr><td>(65, 70]    </td><td style=\"text-align: right;\">               -8.41</td><td style=\"text-align: right;\">                -7.05</td><td style=\"text-align: right;\">               -15.46</td></tr>\n",
       "<tr><td>(70, 75]    </td><td style=\"text-align: right;\">              -12.66</td><td style=\"text-align: right;\">                -6.72</td><td style=\"text-align: right;\">               -19.38</td></tr>\n",
       "<tr><td>(75, 80]    </td><td style=\"text-align: right;\">              -14.59</td><td style=\"text-align: right;\">                -2.95</td><td style=\"text-align: right;\">               -17.54</td></tr>\n",
       "</tbody>\n",
       "</table>"
      ],
      "text/plain": [
       "<IPython.core.display.HTML object>"
      ]
     },
     "metadata": {},
     "output_type": "display_data"
    }
   ],
   "source": [
    "display(HTML(tabulate(mo_table_2, headers=[\"Bins [MWh]\", \"MOE Wind (EUR/MWh)\", \"MOE Solar (EUR/MWh)\", \"MOE Total (EUR/MWh)\"], floatfmt=(\".0f\", \".2f\", \".2f\", \".2f\"), tablefmt='html')))"
   ]
  },
  {
   "cell_type": "markdown",
   "metadata": {},
   "source": [
    "These results are a little harder to interpret. Ignoring the first bin, it seems as though the MOE increases with demand (_is this expected?_). There are however, not enough points for a clear matter to emerge."
   ]
  },
  {
   "cell_type": "code",
   "execution_count": null,
   "metadata": {},
   "outputs": [],
   "source": []
  }
 ],
 "metadata": {
  "kernelspec": {
   "display_name": "Python 3",
   "language": "python",
   "name": "python3"
  },
  "language_info": {
   "codemirror_mode": {
    "name": "ipython",
    "version": 3
   },
   "file_extension": ".py",
   "mimetype": "text/x-python",
   "name": "python",
   "nbconvert_exporter": "python",
   "pygments_lexer": "ipython3",
   "version": "3.7.3"
  }
 },
 "nbformat": 4,
 "nbformat_minor": 2
}
